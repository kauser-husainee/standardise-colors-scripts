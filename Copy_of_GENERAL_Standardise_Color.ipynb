{
  "nbformat": 4,
  "nbformat_minor": 0,
  "metadata": {
    "colab": {
      "provenance": [],
      "include_colab_link": true
    },
    "kernelspec": {
      "name": "python3",
      "display_name": "Python 3"
    },
    "language_info": {
      "name": "python"
    }
  },
  "cells": [
    {
      "cell_type": "markdown",
      "metadata": {
        "id": "view-in-github",
        "colab_type": "text"
      },
      "source": [
        "<a href=\"https://colab.research.google.com/github/kauser-husainee/standardise-colors-scripts/blob/main/Copy_of_GENERAL_Standardise_Color.ipynb\" target=\"_parent\"><img src=\"https://colab.research.google.com/assets/colab-badge.svg\" alt=\"Open In Colab\"/></a>"
      ]
    },
    {
      "cell_type": "markdown",
      "source": [
        "# **Standardise all to hex**"
      ],
      "metadata": {
        "id": "onv33sDzfrfn"
      }
    },
    {
      "cell_type": "code",
      "source": [
        "import json\n",
        "\n",
        "def rgb_to_hex(rgb_value):\n",
        "    # Extract the numeric values from the RGB string\n",
        "    rgb = rgb_value.strip('rgb() ').split(',')\n",
        "    r, g, b = [int(component) for component in rgb]\n",
        "\n",
        "    # Convert the RGB values to hexadecimal\n",
        "    hex_value = '#{:02x}{:02x}{:02x}'.format(r, g, b)\n",
        "\n",
        "    return hex_value\n",
        "\n",
        "def rgba_to_hex(rgba_value):\n",
        "    # Extract the numeric values from the RGBA string\n",
        "    rgba = rgba_value.strip('rgba() ').split(',')\n",
        "    r, g, b = [int(component) for component in rgba[:3]]\n",
        "\n",
        "    # Convert the RGB values to hexadecimal\n",
        "    hex_value = '#{:02x}{:02x}{:02x}'.format(r, g, b)\n",
        "\n",
        "    # If there's an alpha component, add it to the hexadecimal value\n",
        "    if len(rgba) == 4:\n",
        "        a = float(rgba[3])\n",
        "        alpha = int(a * 255)\n",
        "        hex_value += '{:02x}'.format(alpha)\n",
        "\n",
        "    return hex_value\n",
        "\n",
        "# Parse the JSON data\n",
        "with open('/content/colors.json') as json_file:\n",
        "    colors_data = json.load(json_file)\n",
        "\n",
        "# Create a new dictionary to store the updated colors\n",
        "updated_colors = {}\n",
        "\n",
        "# Iterate through each color name and value in the JSON\n",
        "for color_name, color_value in colors_data.items():\n",
        "    if 'rgba' in color_value:\n",
        "        rgba_value = color_value\n",
        "        hex_value = rgba_to_hex(rgba_value)\n",
        "        updated_colors[color_name] = hex_value\n",
        "    elif 'rgb' in color_value:\n",
        "        rgb_value = color_value\n",
        "        hex_value = rgb_to_hex(rgb_value)\n",
        "        updated_colors[color_name] = hex_value\n",
        "    else:\n",
        "        updated_colors[color_name] = color_value\n",
        "\n",
        "# Print the updated JSON\n",
        "updated_json = json.dumps(updated_colors, indent=4)\n",
        "with open('updated_colors.json', 'w') as updated_json_file:\n",
        "    json.dump(updated_colors, updated_json_file, indent=4)\n"
      ],
      "metadata": {
        "id": "xYc473MpdvSf"
      },
      "execution_count": null,
      "outputs": []
    },
    {
      "cell_type": "markdown",
      "source": [
        "# **Sort all Hex**"
      ],
      "metadata": {
        "id": "eMH0ZjZBfyCR"
      }
    },
    {
      "cell_type": "code",
      "source": [
        "pip install colormath"
      ],
      "metadata": {
        "id": "vxImpchoM8jw",
        "colab": {
          "base_uri": "https://localhost:8080/"
        },
        "outputId": "f498c4ad-d24b-44e6-ba00-73fb85403d9a"
      },
      "execution_count": null,
      "outputs": [
        {
          "output_type": "stream",
          "name": "stdout",
          "text": [
            "Looking in indexes: https://pypi.org/simple, https://us-python.pkg.dev/colab-wheels/public/simple/\n",
            "Collecting colormath\n",
            "  Downloading colormath-3.0.0.tar.gz (39 kB)\n",
            "  Preparing metadata (setup.py) ... \u001b[?25l\u001b[?25hdone\n",
            "Requirement already satisfied: numpy in /usr/local/lib/python3.10/dist-packages (from colormath) (1.22.4)\n",
            "Requirement already satisfied: networkx>=2.0 in /usr/local/lib/python3.10/dist-packages (from colormath) (3.1)\n",
            "Building wheels for collected packages: colormath\n",
            "  Building wheel for colormath (setup.py) ... \u001b[?25l\u001b[?25hdone\n",
            "  Created wheel for colormath: filename=colormath-3.0.0-py3-none-any.whl size=39409 sha256=2550e6b8d700e97a780eb81d70705a16ee61a99fe14397394f601a423e63f649\n",
            "  Stored in directory: /root/.cache/pip/wheels/ab/b3/4d/c0738759c25a1df01958068f162cf2a9dc3ab1da8b972cfcfc\n",
            "Successfully built colormath\n",
            "Installing collected packages: colormath\n",
            "Successfully installed colormath-3.0.0\n"
          ]
        }
      ]
    },
    {
      "cell_type": "markdown",
      "source": [],
      "metadata": {
        "id": "6kWQ5uUXOkmC"
      }
    },
    {
      "cell_type": "code",
      "source": [
        "import json\n",
        "import webcolors\n",
        "from colormath.color_objects import LabColor\n",
        "from colormath.color_diff import delta_e_cie2000\n",
        "\n",
        "# Read hex codes from JSON file\n",
        "with open('reduced_colors.json', 'r') as file:\n",
        "    hex_codes = json.load(file)\n",
        "\n",
        "# Convert hex codes to Lab color space and calculate Delta E\n",
        "colors = []\n",
        "reference_color = LabColor(lab_l=100, lab_a=0, lab_b=0)  # Set a reference color for Delta E comparison\n",
        "for key, hex_code in hex_codes.items():\n",
        "    try:\n",
        "        rgb = webcolors.hex_to_rgb(hex_code)\n",
        "        lab_color = LabColor(rgb[0] / 255, rgb[1] / 255, rgb[2] / 255)\n",
        "        delta_e = delta_e_cie2000(reference_color, lab_color)\n",
        "        colors.append((delta_e, key, hex_code))\n",
        "    except ValueError:\n",
        "        # Ignore invalid hex color values\n",
        "        pass\n",
        "\n",
        "# Sort the colors based on Delta E values\n",
        "sorted_colors = sorted(colors, key=lambda x: x[0])\n",
        "\n",
        "# Extract sorted hex codes with original key names\n",
        "sorted_hex_codes = {color[1]: color[2] for color in sorted_colors}\n",
        "\n",
        "# Write sorted hex codes to JSON file\n",
        "with open('sorted_colors.json', 'w') as file:\n",
        "    json.dump(sorted_hex_codes, file, indent=4)\n"
      ],
      "metadata": {
        "id": "knyOfILKf0ts",
        "colab": {
          "base_uri": "https://localhost:8080/",
          "height": 240
        },
        "outputId": "31d34d3f-725a-4471-de01-57591e7d505d"
      },
      "execution_count": null,
      "outputs": [
        {
          "output_type": "error",
          "ename": "FileNotFoundError",
          "evalue": "ignored",
          "traceback": [
            "\u001b[0;31m---------------------------------------------------------------------------\u001b[0m",
            "\u001b[0;31mFileNotFoundError\u001b[0m                         Traceback (most recent call last)",
            "\u001b[0;32m<ipython-input-3-939ec7ec2c4c>\u001b[0m in \u001b[0;36m<cell line: 7>\u001b[0;34m()\u001b[0m\n\u001b[1;32m      5\u001b[0m \u001b[0;34m\u001b[0m\u001b[0m\n\u001b[1;32m      6\u001b[0m \u001b[0;31m# Read hex codes from JSON file\u001b[0m\u001b[0;34m\u001b[0m\u001b[0;34m\u001b[0m\u001b[0m\n\u001b[0;32m----> 7\u001b[0;31m \u001b[0;32mwith\u001b[0m \u001b[0mopen\u001b[0m\u001b[0;34m(\u001b[0m\u001b[0;34m'reduced_colors.json'\u001b[0m\u001b[0;34m,\u001b[0m \u001b[0;34m'r'\u001b[0m\u001b[0;34m)\u001b[0m \u001b[0;32mas\u001b[0m \u001b[0mfile\u001b[0m\u001b[0;34m:\u001b[0m\u001b[0;34m\u001b[0m\u001b[0;34m\u001b[0m\u001b[0m\n\u001b[0m\u001b[1;32m      8\u001b[0m     \u001b[0mhex_codes\u001b[0m \u001b[0;34m=\u001b[0m \u001b[0mjson\u001b[0m\u001b[0;34m.\u001b[0m\u001b[0mload\u001b[0m\u001b[0;34m(\u001b[0m\u001b[0mfile\u001b[0m\u001b[0;34m)\u001b[0m\u001b[0;34m\u001b[0m\u001b[0;34m\u001b[0m\u001b[0m\n\u001b[1;32m      9\u001b[0m \u001b[0;34m\u001b[0m\u001b[0m\n",
            "\u001b[0;31mFileNotFoundError\u001b[0m: [Errno 2] No such file or directory: 'reduced_colors.json'"
          ]
        }
      ]
    },
    {
      "cell_type": "markdown",
      "source": [
        "# ***Cluster colors while replacing duplicates hex value only with reduced values***"
      ],
      "metadata": {
        "id": "4ofBq_lFgbGi"
      }
    },
    {
      "cell_type": "code",
      "source": [
        "import json\n",
        "from sklearn.cluster import KMeans\n",
        "import numpy as np\n",
        "\n",
        "def hex_to_rgb(hex):\n",
        "    hex = hex.strip().lstrip('#')\n",
        "    if len(hex) == 3:  # short form, duplicates each digit\n",
        "        hex = ''.join([ch * 2 for ch in hex])\n",
        "    elif len(hex) == 4:  # short form with alpha, duplicates each digit\n",
        "        hex = ''.join([ch * 2 for ch in hex])\n",
        "    elif len(hex) < 6:  # If less than 6, pad with zeros\n",
        "        hex = hex.ljust(6, '0')\n",
        "    elif len(hex) < 8 and len(hex) > 6:  # If between 6 and 8, pad with zeros\n",
        "        hex = hex.ljust(8, '0')\n",
        "    elif len(hex) != 6 and len(hex) != 8:\n",
        "        raise ValueError(f\"Invalid color code: {hex}\")\n",
        "    rgb = tuple(int(hex[i:i+2], 16) for i in range(0, len(hex), 2))\n",
        "    return rgb[:3]  # Return RGB values only\n",
        "\n",
        "def rgb_to_hex(rgb):\n",
        "    return '#{:02x}{:02x}{:02x}'.format(*rgb)\n",
        "\n",
        "# Read JSON from a file\n",
        "with open('updated_colors.json', 'r') as f:\n",
        "    data = json.load(f)\n",
        "\n",
        "# Convert the hex colors to RGB\n",
        "colors_rgb = [hex_to_rgb(item) for item in data.values()]\n",
        "\n",
        "# Define reduction factor\n",
        "reduction_factor = 0.2  # Change this to control the degree of color clustering\n",
        "n_clusters = max(1, int(len(set(colors_rgb)) * reduction_factor))\n",
        "\n",
        "# Apply KMeans clustering\n",
        "kmeans = KMeans(n_clusters=n_clusters, random_state=0)\n",
        "kmeans.fit(colors_rgb)\n",
        "\n",
        "# Map the original color names to their corresponding reduced color\n",
        "reduced_colors = {color_name: rgb_to_hex([int(val) for val in kmeans.cluster_centers_[label]]) for color_name, label in zip(data.keys(), kmeans.labels_)}\n",
        "\n",
        "# Find the removed colors by subtracting the reduced colors from the original colors\n",
        "removed_colors = {key: value for key, value in data.items() if value not in reduced_colors.values()}\n",
        "\n",
        "# Write reduced colors to a file\n",
        "with open('SAMEFILE_reduced_colors.json', 'w') as f:\n",
        "    json.dump(reduced_colors, f, indent=4)\n",
        "\n",
        "# Write removed colors to a file\n",
        "with open('SAMEFILE_removed_colors.json', 'w') as f:\n",
        "    json.dump(removed_colors, f, indent=4)\n"
      ],
      "metadata": {
        "colab": {
          "base_uri": "https://localhost:8080/"
        },
        "id": "hdYD0I4GgppN",
        "outputId": "9384bf97-8c22-4cc8-e174-a7002628b790"
      },
      "execution_count": null,
      "outputs": [
        {
          "output_type": "stream",
          "name": "stderr",
          "text": [
            "/usr/local/lib/python3.10/dist-packages/sklearn/cluster/_kmeans.py:870: FutureWarning: The default value of `n_init` will change from 10 to 'auto' in 1.4. Set the value of `n_init` explicitly to suppress the warning\n",
            "  warnings.warn(\n"
          ]
        }
      ]
    },
    {
      "cell_type": "markdown",
      "source": [
        "**Clustered** with removed duplicated & a mapping file for removed colors"
      ],
      "metadata": {
        "id": "vX8tyFbumKVx"
      }
    },
    {
      "cell_type": "code",
      "source": [
        "import json\n",
        "from sklearn.cluster import KMeans\n",
        "import numpy as np\n",
        "from collections import defaultdict\n",
        "\n",
        "def hex_to_rgb(hex):\n",
        "    hex = hex.strip().lstrip('#')\n",
        "    if len(hex) == 3:  # short form, duplicates each digit\n",
        "        hex = ''.join([ch * 2 for ch in hex])\n",
        "    elif len(hex) == 4:  # short form with alpha, duplicates each digit\n",
        "        hex = ''.join([ch * 2 for ch in hex])\n",
        "    elif len(hex) < 6:  # If less than 6, pad with zeros\n",
        "        hex = hex.ljust(6, '0')\n",
        "    elif len(hex) < 8 and len(hex) > 6:  # If between 6 and 8, pad with zeros\n",
        "        hex = hex.ljust(8, '0')\n",
        "    elif len(hex) != 6 and len(hex) != 8:\n",
        "        raise ValueError(f\"Invalid color code: {hex}\")\n",
        "    rgb = tuple(int(hex[i:i+2], 16) for i in range(0, len(hex), 2))\n",
        "    return rgb[:3]  # Return RGB values only\n",
        "\n",
        "def rgb_to_hex(rgb):\n",
        "    return '#{:02x}{:02x}{:02x}'.format(*rgb)\n",
        "\n",
        "# Read JSON from a file\n",
        "with open('updated_colors.json', 'r') as f:\n",
        "    data = json.load(f)\n",
        "\n",
        "# Convert the hex colors to RGB\n",
        "colors_rgb = [hex_to_rgb(item) for item in data.values()]\n",
        "\n",
        "# Define reduction factor\n",
        "reduction_factor = 0.1  # Change this to control the degree of color clustering\n",
        "n_clusters = max(1, int(len(set(colors_rgb)) * reduction_factor))\n",
        "\n",
        "# Apply KMeans clustering\n",
        "kmeans = KMeans(n_clusters=n_clusters, random_state=0)\n",
        "kmeans.fit(colors_rgb)\n",
        "\n",
        "# Initialize an empty dictionary to store color clusters\n",
        "color_clusters = defaultdict(list)\n",
        "\n",
        "# Populate color_clusters with color names\n",
        "for color_name, label in zip(data.keys(), kmeans.labels_):\n",
        "    reduced_color_hex = rgb_to_hex([int(val) for val in kmeans.cluster_centers_[label]])\n",
        "    color_clusters[reduced_color_hex].append(color_name)\n",
        "\n",
        "# Prepare output data with reduced colors (the first color name in each cluster)\n",
        "reduced_colors = {color_names[0]: color_hex for color_hex, color_names in color_clusters.items()}\n",
        "\n",
        "# Prepare output data with removed colors (the remaining color names in each cluster)\n",
        "removed_colors = {color_name: color_hex for color_hex, color_names in color_clusters.items() for color_name in color_names[1:]}\n",
        "\n",
        "# Prepare output data with color mapping (mapping of removed colors to their corresponding reduced color)\n",
        "color_mapping = {color_name: color_hex for color_hex, color_names in color_clusters.items() for color_name in color_names}\n",
        "\n",
        "# Write reduced colors to a file\n",
        "with open('reduced_colors.json', 'w') as f:\n",
        "    json.dump(reduced_colors, f, indent=4)\n",
        "\n",
        "# Write removed colors to a file\n",
        "with open('removed_colors.json', 'w') as f:\n",
        "    json.dump(removed_colors, f, indent=4)\n",
        "\n",
        "# Write color mapping to a file\n",
        "with open('color_mapping.json', 'w') as f:\n",
        "    json.dump(color_mapping, f, indent=4)\n"
      ],
      "metadata": {
        "colab": {
          "base_uri": "https://localhost:8080/"
        },
        "id": "68L1xvK8lpZj",
        "outputId": "38548fb8-625b-4e0e-a240-04dc0de320c7"
      },
      "execution_count": null,
      "outputs": [
        {
          "output_type": "stream",
          "name": "stderr",
          "text": [
            "/usr/local/lib/python3.10/dist-packages/sklearn/cluster/_kmeans.py:870: FutureWarning: The default value of `n_init` will change from 10 to 'auto' in 1.4. Set the value of `n_init` explicitly to suppress the warning\n",
            "  warnings.warn(\n"
          ]
        }
      ]
    }
  ]
}